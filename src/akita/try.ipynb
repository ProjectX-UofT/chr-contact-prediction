{
 "cells": [
  {
   "cell_type": "code",
   "execution_count": 9,
   "metadata": {},
   "outputs": [],
   "source": [
    "import h5py\n",
    "import numpy as np\n",
    "import torch\n",
    "import tensorflow as tf"
   ]
  },
  {
   "cell_type": "code",
   "execution_count": 2,
   "metadata": {},
   "outputs": [
    {
     "name": "stdout",
     "output_type": "stream",
     "text": [
      "['sequences', 'targets']\n",
      "(419, 1048576)\n",
      "(419, 99681, 5)\n"
     ]
    }
   ],
   "source": [
    "f = h5py.File(\"../../data/akita/valid.hdf5\", \"r\")\n",
    "print(list(f.keys()))\n",
    "seq_data = f['sequences']\n",
    "print(seq_data.shape)\n",
    "tar_data = f['targets']\n",
    "print(tar_data.shape)"
   ]
  },
  {
   "cell_type": "code",
   "execution_count": 3,
   "metadata": {},
   "outputs": [],
   "source": [
    "seq = torch.Tensor(seq_data[()])\n",
    "tar = torch.Tensor(tar_data[()])"
   ]
  },
  {
   "cell_type": "code",
   "execution_count": 4,
   "metadata": {},
   "outputs": [
    {
     "name": "stdout",
     "output_type": "stream",
     "text": [
      "tensor([[2., 0., 0.,  ..., 0., 0., 3.],\n",
      "        [0., 1., 0.,  ..., 3., 3., 0.],\n",
      "        [0., 3., 0.,  ..., 1., 3., 3.],\n",
      "        ...,\n",
      "        [3., 1., 0.,  ..., 1., 1., 0.],\n",
      "        [1., 3., 3.,  ..., 2., 0., 3.],\n",
      "        [1., 3., 3.,  ..., 3., 3., 3.]])\n"
     ]
    }
   ],
   "source": [
    "print(seq)"
   ]
  },
  {
   "cell_type": "code",
   "execution_count": 5,
   "metadata": {},
   "outputs": [
    {
     "name": "stdout",
     "output_type": "stream",
     "text": [
      "tensor([[[-0.0573,  0.0027, -0.0147, -0.0372,  0.0585],\n",
      "         [-0.0884, -0.0197, -0.0351, -0.1368,  0.1323],\n",
      "         [-0.0039, -0.0434, -0.0548, -0.2234,  0.1765],\n",
      "         ...,\n",
      "         [-0.0069, -0.1243, -0.0491,  0.0170, -0.1730],\n",
      "         [-0.1125, -0.1099, -0.1255,  0.0945, -0.2759],\n",
      "         [-0.1224, -0.0768, -0.1875,  0.0518, -0.1003]],\n",
      "\n",
      "        [[ 0.0995,  0.0663,  0.0287,  0.1210,  0.0715],\n",
      "         [ 0.1407,  0.0872,  0.0074,  0.1757,  0.0502],\n",
      "         [ 0.1504,  0.0494,  0.0079,  0.2194,  0.0269],\n",
      "         ...,\n",
      "         [ 0.0440,  0.0157,  0.0088, -0.0073, -0.0138],\n",
      "         [ 0.0219,  0.0285, -0.0240, -0.0294, -0.0861],\n",
      "         [ 0.0073,  0.0354, -0.0087, -0.0285, -0.0419]],\n",
      "\n",
      "        [[ 0.0098,  0.0356,  0.0197, -0.0266, -0.1025],\n",
      "         [ 0.0156,  0.0354,  0.0267, -0.0968, -0.2283],\n",
      "         [-0.0066,  0.0147, -0.0037, -0.2394, -0.3098],\n",
      "         ...,\n",
      "         [ 0.0764, -0.0067,  0.0254,  0.0820,  0.0352],\n",
      "         [ 0.1405, -0.0387,  0.0441,  0.1346,  0.0611],\n",
      "         [ 0.1069, -0.0149,  0.0526,  0.1199,  0.0547]],\n",
      "\n",
      "        ...,\n",
      "\n",
      "        [[ 0.0756, -0.0005, -0.0215, -0.1122, -0.0204],\n",
      "         [ 0.1261,  0.0233, -0.0148, -0.1137, -0.0824],\n",
      "         [ 0.1138,  0.0514, -0.0260, -0.1254, -0.1644],\n",
      "         ...,\n",
      "         [-0.2047, -0.1223,  0.0340, -0.0147, -0.0249],\n",
      "         [-0.1556, -0.1798, -0.0100,  0.0097,  0.0068],\n",
      "         [-0.0207, -0.0528, -0.0139,  0.0082,  0.0424]],\n",
      "\n",
      "        [[ 0.0110,  0.0815, -0.0202, -0.0165,  0.0573],\n",
      "         [-0.0363,  0.1088, -0.0749, -0.1159,  0.0655],\n",
      "         [-0.0422,  0.1421, -0.1505, -0.2881,  0.0475],\n",
      "         ...,\n",
      "         [-0.0131, -0.2238, -0.0027, -0.2494,  0.0554],\n",
      "         [-0.0351, -0.2993, -0.0058, -0.2423,  0.1021],\n",
      "         [-0.0699, -0.2024,  0.0211, -0.1846,  0.1052]],\n",
      "\n",
      "        [[ 0.0116,  0.0485, -0.0406, -0.0639, -0.0933],\n",
      "         [-0.0010,  0.0974, -0.0898, -0.1114, -0.0995],\n",
      "         [-0.0235,  0.1162, -0.0903, -0.1088, -0.0491],\n",
      "         ...,\n",
      "         [-0.0634,  0.0339,  0.0167, -0.0256,  0.0643],\n",
      "         [-0.0800,  0.0483, -0.0303,  0.0048,  0.0640],\n",
      "         [ 0.0116, -0.0049, -0.0078,  0.0212,  0.0620]]])\n"
     ]
    }
   ],
   "source": [
    "print(tar)"
   ]
  },
  {
   "cell_type": "code",
   "execution_count": null,
   "metadata": {},
   "outputs": [],
   "source": [
    "f.close()"
   ]
  },
  {
   "cell_type": "code",
   "execution_count": 25,
   "metadata": {},
   "outputs": [
    {
     "name": "stdout",
     "output_type": "stream",
     "text": [
      "tf.Tensor(\n",
      "[[6 2 3 4]\n",
      " [7 5 3 7]], shape=(2, 4), dtype=int32)\n"
     ]
    },
    {
     "ename": "TypeError",
     "evalue": "randn() received an invalid combination of arguments - got (), but expected one of:\n * (tuple of ints size, *, tuple of names names, torch.dtype dtype, torch.layout layout, torch.device device, bool pin_memory, bool requires_grad)\n * (tuple of ints size, *, torch.Generator generator, tuple of names names, torch.dtype dtype, torch.layout layout, torch.device device, bool pin_memory, bool requires_grad)\n * (tuple of ints size, *, torch.Generator generator, Tensor out, torch.dtype dtype, torch.layout layout, torch.device device, bool pin_memory, bool requires_grad)\n * (tuple of ints size, *, Tensor out, torch.dtype dtype, torch.layout layout, torch.device device, bool pin_memory, bool requires_grad)\n",
     "output_type": "error",
     "traceback": [
      "\u001b[0;31m---------------------------------------------------------------------------\u001b[0m",
      "\u001b[0;31mTypeError\u001b[0m                                 Traceback (most recent call last)",
      "\u001b[0;32m<ipython-input-25-1b0607ddd0f5>\u001b[0m in \u001b[0;36m<module>\u001b[0;34m\u001b[0m\n\u001b[1;32m      1\u001b[0m \u001b[0ml\u001b[0m \u001b[0;34m=\u001b[0m \u001b[0;34m[\u001b[0m\u001b[0;34m[\u001b[0m\u001b[0;36m4\u001b[0m\u001b[0;34m,\u001b[0m \u001b[0;36m3\u001b[0m\u001b[0;34m,\u001b[0m \u001b[0;36m2\u001b[0m \u001b[0;34m,\u001b[0m \u001b[0;36m6\u001b[0m\u001b[0;34m]\u001b[0m\u001b[0;34m,\u001b[0m \u001b[0;34m[\u001b[0m\u001b[0;36m7\u001b[0m\u001b[0;34m,\u001b[0m \u001b[0;36m3\u001b[0m\u001b[0;34m,\u001b[0m \u001b[0;36m5\u001b[0m\u001b[0;34m,\u001b[0m \u001b[0;36m7\u001b[0m\u001b[0;34m]\u001b[0m\u001b[0;34m]\u001b[0m\u001b[0;34m\u001b[0m\u001b[0;34m\u001b[0m\u001b[0m\n\u001b[1;32m      2\u001b[0m \u001b[0mprint\u001b[0m\u001b[0;34m(\u001b[0m\u001b[0mtf\u001b[0m\u001b[0;34m.\u001b[0m\u001b[0mgather\u001b[0m\u001b[0;34m(\u001b[0m\u001b[0ml\u001b[0m\u001b[0;34m,\u001b[0m \u001b[0;34m[\u001b[0m\u001b[0;36m3\u001b[0m\u001b[0;34m,\u001b[0m \u001b[0;36m2\u001b[0m\u001b[0;34m,\u001b[0m \u001b[0;36m1\u001b[0m\u001b[0;34m,\u001b[0m \u001b[0;36m0\u001b[0m\u001b[0;34m]\u001b[0m\u001b[0;34m,\u001b[0m \u001b[0maxis\u001b[0m\u001b[0;34m=\u001b[0m\u001b[0;34m-\u001b[0m\u001b[0;36m1\u001b[0m\u001b[0;34m)\u001b[0m\u001b[0;34m)\u001b[0m\u001b[0;34m\u001b[0m\u001b[0;34m\u001b[0m\u001b[0m\n\u001b[0;32m----> 3\u001b[0;31m \u001b[0mprint\u001b[0m\u001b[0;34m(\u001b[0m\u001b[0mtorch\u001b[0m\u001b[0;34m.\u001b[0m\u001b[0mrandn\u001b[0m\u001b[0;34m(\u001b[0m\u001b[0;34m)\u001b[0m\u001b[0;34m)\u001b[0m\u001b[0;34m\u001b[0m\u001b[0;34m\u001b[0m\u001b[0m\n\u001b[0m",
      "\u001b[0;31mTypeError\u001b[0m: randn() received an invalid combination of arguments - got (), but expected one of:\n * (tuple of ints size, *, tuple of names names, torch.dtype dtype, torch.layout layout, torch.device device, bool pin_memory, bool requires_grad)\n * (tuple of ints size, *, torch.Generator generator, tuple of names names, torch.dtype dtype, torch.layout layout, torch.device device, bool pin_memory, bool requires_grad)\n * (tuple of ints size, *, torch.Generator generator, Tensor out, torch.dtype dtype, torch.layout layout, torch.device device, bool pin_memory, bool requires_grad)\n * (tuple of ints size, *, Tensor out, torch.dtype dtype, torch.layout layout, torch.device device, bool pin_memory, bool requires_grad)\n"
     ]
    }
   ],
   "source": [
    "l = [[4, 3, 2 , 6], [7, 3, 5, 7]]\n",
    "print(tf.gather(l, [3, 2, 1, 0], axis=-1))\n",
    "print(torch.randn())"
   ]
  }
 ],
 "metadata": {
  "interpreter": {
   "hash": "7e85ec9bf098c5427e45e2f632dcd4eeff803b007e1abd287d600879388709c1"
  },
  "kernelspec": {
   "display_name": "Python 3.8.3 64-bit",
   "language": "python",
   "name": "python3"
  },
  "language_info": {
   "codemirror_mode": {
    "name": "ipython",
    "version": 3
   },
   "file_extension": ".py",
   "mimetype": "text/x-python",
   "name": "python",
   "nbconvert_exporter": "python",
   "pygments_lexer": "ipython3",
   "version": "3.8.3"
  },
  "orig_nbformat": 4
 },
 "nbformat": 4,
 "nbformat_minor": 2
}
